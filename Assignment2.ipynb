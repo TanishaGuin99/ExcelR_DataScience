{
 "cells": [
  {
   "cell_type": "code",
   "execution_count": 2,
   "id": "d86d0f55-6ed5-445f-baaa-1d03b59627e4",
   "metadata": {},
   "outputs": [
    {
     "name": "stdout",
     "output_type": "stream",
     "text": [
      "Part (a): Using t-distribution\n",
      "Sample Mean: 1.239\n",
      "99% Confidence Interval: (1.090, 1.387)\n",
      "T Critical Value: 2.977\n",
      "\n",
      "Part (b): Using z-distribution\n",
      "Sample Mean: 1.239\n",
      "99% Confidence Interval: (1.106, 1.372)\n",
      "Z Critical Value: 2.576\n"
     ]
    }
   ],
   "source": [
    "import numpy as np\n",
    "from scipy.stats import t, norm\n",
    "\n",
    "# Data\n",
    "durabilities = [1.13, 1.55, 1.43, 0.92, 1.25, 1.36, 1.32, 0.85, 1.07, 1.48, 1.20, 1.33, 1.18, 1.22, 1.29]\n",
    "\n",
    "# Part (a): 99% Confidence Interval using Sample Standard Deviation\n",
    "def confidence_interval_t(data, confidence=0.99):\n",
    "    # Calculate sample statistics\n",
    "    n = len(data)\n",
    "    sample_mean = np.mean(data)\n",
    "    sample_std = np.std(data, ddof=1)  # Sample standard deviation (ddof=1)\n",
    "\n",
    "    # Get t critical value\n",
    "    alpha = 1 - confidence\n",
    "    t_critical = t.ppf(1 - alpha / 2, df=n - 1)\n",
    "\n",
    "    # Confidence Interval\n",
    "    margin_of_error = t_critical * (sample_std / np.sqrt(n))\n",
    "    ci_lower = sample_mean - margin_of_error\n",
    "    ci_upper = sample_mean + margin_of_error\n",
    "\n",
    "    return sample_mean, ci_lower, ci_upper, t_critical\n",
    "\n",
    "mean, ci_lower, ci_upper, t_critical = confidence_interval_t(durabilities)\n",
    "print(f\"Part (a): Using t-distribution\")\n",
    "print(f\"Sample Mean: {mean:.3f}\")\n",
    "print(f\"99% Confidence Interval: ({ci_lower:.3f}, {ci_upper:.3f})\")\n",
    "print(f\"T Critical Value: {t_critical:.3f}\\n\")\n",
    "\n",
    "# Part (b): 99% Confidence Interval using Known Population Standard Deviation\n",
    "def confidence_interval_z(data, population_std, confidence=0.99):\n",
    "    # Calculate sample statistics\n",
    "    n = len(data)\n",
    "    sample_mean = np.mean(data)\n",
    "\n",
    "    # Get z critical value\n",
    "    alpha = 1 - confidence\n",
    "    z_critical = norm.ppf(1 - alpha / 2)\n",
    "\n",
    "    # Confidence Interval\n",
    "    margin_of_error = z_critical * (population_std / np.sqrt(n))\n",
    "    ci_lower = sample_mean - margin_of_error\n",
    "    ci_upper = sample_mean + margin_of_error\n",
    "\n",
    "    return sample_mean, ci_lower, ci_upper, z_critical\n",
    "\n",
    "population_std = 0.2  # Known population standard deviation\n",
    "mean, ci_lower, ci_upper, z_critical = confidence_interval_z(durabilities, population_std)\n",
    "print(f\"Part (b): Using z-distribution\")\n",
    "print(f\"Sample Mean: {mean:.3f}\")\n",
    "print(f\"99% Confidence Interval: ({ci_lower:.3f}, {ci_upper:.3f})\")\n",
    "print(f\"Z Critical Value: {z_critical:.3f}\")\n"
   ]
  },
  {
   "cell_type": "code",
   "execution_count": null,
   "id": "2a6e1e9c-3608-4e7a-aa4f-fa860c15b635",
   "metadata": {},
   "outputs": [],
   "source": []
  }
 ],
 "metadata": {
  "kernelspec": {
   "display_name": "Python [conda env:base] *",
   "language": "python",
   "name": "conda-base-py"
  },
  "language_info": {
   "codemirror_mode": {
    "name": "ipython",
    "version": 3
   },
   "file_extension": ".py",
   "mimetype": "text/x-python",
   "name": "python",
   "nbconvert_exporter": "python",
   "pygments_lexer": "ipython3",
   "version": "3.12.4"
  }
 },
 "nbformat": 4,
 "nbformat_minor": 5
}
