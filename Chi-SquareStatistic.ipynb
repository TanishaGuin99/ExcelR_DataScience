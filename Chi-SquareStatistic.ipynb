{
 "cells": [
  {
   "cell_type": "code",
   "execution_count": 2,
   "id": "4d777d80-1b82-4947-9ddb-034e4259453b",
   "metadata": {},
   "outputs": [
    {
     "name": "stdout",
     "output_type": "stream",
     "text": [
      "Observed Data:\n",
      "[[ 50  70]\n",
      " [ 80 100]\n",
      " [ 60  90]\n",
      " [ 30  50]\n",
      " [ 20  50]]\n",
      "\n",
      "Expected Frequencies:\n",
      "[[ 48.  72.]\n",
      " [ 72. 108.]\n",
      " [ 60.  90.]\n",
      " [ 32.  48.]\n",
      " [ 28.  42.]]\n",
      "\n",
      "Chi-Square Statistic: 5.64\n",
      "Critical Value: 9.49\n",
      "Degrees of Freedom: 4\n",
      "Conclusion: Fail to reject the null hypothesis. There is no significant association between the type of device and customer satisfaction.\n"
     ]
    }
   ],
   "source": [
    "# Chi-Square Test: Association between Device Type and Customer Satisfaction\n",
    "\n",
    "import numpy as np\n",
    "import scipy.stats as stats\n",
    "\n",
    "# Step 1: State the Hypotheses\n",
    "# H0 (Null Hypothesis): There is no significant association between the type of device and customer satisfaction.\n",
    "# H1 (Alternative Hypothesis): There is a significant association between the type of device and customer satisfaction.\n",
    "\n",
    "# Step 2: Data Preparation\n",
    "# Observed data from the contingency table\n",
    "observed = np.array([\n",
    "    [50, 70],  # Very Satisfied\n",
    "    [80, 100],  # Satisfied\n",
    "    [60, 90],  # Neutral\n",
    "    [30, 50],  # Unsatisfied\n",
    "    [20, 50]   # Very Unsatisfied\n",
    "])\n",
    "\n",
    "# Row and column totals\n",
    "row_totals = observed.sum(axis=1)\n",
    "col_totals = observed.sum(axis=0)\n",
    "total = observed.sum()\n",
    "\n",
    "# Step 3: Compute the Expected Frequencies\n",
    "expected = np.outer(row_totals, col_totals) / total\n",
    "\n",
    "# Step 4: Compute the Chi-Square Statistic\n",
    "chi_square_statistic = ((observed - expected) ** 2 / expected).sum()\n",
    "\n",
    "# Step 5: Degrees of Freedom\n",
    "# Degrees of freedom = (number of rows - 1) * (number of columns - 1)\n",
    "df = (observed.shape[0] - 1) * (observed.shape[1] - 1)\n",
    "\n",
    "# Step 6: Determine the Critical Value\n",
    "# Significance level (alpha) = 0.05\n",
    "alpha = 0.05\n",
    "critical_value = stats.chi2.ppf(1 - alpha, df)\n",
    "\n",
    "# Step 7: Make a Decision\n",
    "if chi_square_statistic > critical_value:\n",
    "    conclusion = \"Reject the null hypothesis. There is a significant association between the type of device and customer satisfaction.\"\n",
    "else:\n",
    "    conclusion = \"Fail to reject the null hypothesis. There is no significant association between the type of device and customer satisfaction.\"\n",
    "\n",
    "# Output Results\n",
    "print(\"Observed Data:\")\n",
    "print(observed)\n",
    "print(\"\\nExpected Frequencies:\")\n",
    "print(expected.round(2))\n",
    "print(f\"\\nChi-Square Statistic: {chi_square_statistic:.2f}\")\n",
    "print(f\"Critical Value: {critical_value:.2f}\")\n",
    "print(f\"Degrees of Freedom: {df}\")\n",
    "print(f\"Conclusion: {conclusion}\")\n"
   ]
  },
  {
   "cell_type": "code",
   "execution_count": null,
   "id": "e9e9d6b9-fa45-42ff-9e2f-284deb3d7853",
   "metadata": {},
   "outputs": [],
   "source": []
  }
 ],
 "metadata": {
  "kernelspec": {
   "display_name": "Python [conda env:base] *",
   "language": "python",
   "name": "conda-base-py"
  },
  "language_info": {
   "codemirror_mode": {
    "name": "ipython",
    "version": 3
   },
   "file_extension": ".py",
   "mimetype": "text/x-python",
   "name": "python",
   "nbconvert_exporter": "python",
   "pygments_lexer": "ipython3",
   "version": "3.12.4"
  }
 },
 "nbformat": 4,
 "nbformat_minor": 5
}
